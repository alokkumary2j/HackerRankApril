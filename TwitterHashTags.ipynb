{
 "cells": [
  {
   "cell_type": "code",
   "execution_count": 38,
   "metadata": {
    "collapsed": false
   },
   "outputs": [],
   "source": [
    "import numpy as np\n",
    "import pandas as pd\n",
    "import scipy \n",
    "import sys\n",
    "from nltk.corpus import wordnet\n",
    "from nltk.corpus import stopwords\n",
    "import pycountry"
   ]
  },
  {
   "cell_type": "code",
   "execution_count": 39,
   "metadata": {
    "collapsed": false
   },
   "outputs": [],
   "source": [
    "def populateCountriesFile():\n",
    "    with open(\"countries.txt\",\"w\") as fCountry:\n",
    "        pyCountryObjects=list(pycountry.countries)\n",
    "        for pyConObj in pyCountryObjects:\n",
    "            fCountry.write(pyConObj.alpha2+\"\\n\")\n",
    "            fCountry.write(pyConObj.alpha3+\"\\n\")\n",
    "            fCountry.write(pyConObj.name.replace(\" \",\"\")+\"\\n\")\n",
    "        fCountry.write('UAE\\n')#Manually Write It\n",
    "            #fCountry.write(pyConObj.official_name.replace(\" \",\"\")+\"\\n\")\n",
    "populateCountriesFile()"
   ]
  },
  {
   "cell_type": "code",
   "execution_count": 40,
   "metadata": {
    "collapsed": false
   },
   "outputs": [],
   "source": [
    "def readDictWordsFromFile(fName,wordDict):\n",
    "    with open(fName,\"r\") as fwords:\n",
    "        wordsList=fwords.read().splitlines()\n",
    "    for w in wordsList:\n",
    "        wordDict[w]=True\n",
    "def returnWordDict():\n",
    "    wordDict={}\n",
    "    readDictWordsFromFile(\"words.txt\",wordDict)\n",
    "    readDictWordsFromFile(\"countries.txt\",wordDict)\n",
    "    #print(stopwords.words('english'))\n",
    "    for w in stopwords.words('english'):\n",
    "        wordDict[w]=True\n",
    "    #Add Country Abbreviations\n",
    "    #Handle Slangs\n",
    "    return wordDict\n",
    "def isADictWord(word,wordDict):\n",
    "    if wordDict.get(word):\n",
    "        return True\n",
    "    else:\n",
    "        return False\n",
    "#        if not wordnet.synsets(word):\n",
    "#            return False\n",
    "#        else:\n"
   ]
  },
  {
   "cell_type": "code",
   "execution_count": 41,
   "metadata": {
    "collapsed": false
   },
   "outputs": [],
   "source": [
    "def getMinimalTokens(hashTag,wordDict,begIndex,parsedTokens):\n",
    "    lastIndex=len(hashTag)\n",
    "    index=begIndex+1\n",
    "    optimalLen=sys.maxsize-1\n",
    "    if begIndex>=optimalLen:\n",
    "        return optimalLen\n",
    "    optimalIndex=-1\n",
    "    while index<=lastIndex:\n",
    "        candToken=hashTag[begIndex:index]\n",
    "        if(isADictWord(candToken,wordDict)):\n",
    "            if index==lastIndex:\n",
    "                parsedTokens[0]=candToken\n",
    "                return 1\n",
    "            candLen=1+getMinimalTokens(hashTag,wordDict,index,parsedTokens)\n",
    "            if candLen<optimalLen:\n",
    "                optimalLen=candLen\n",
    "                optimalIndex=index\n",
    "        index=index+1\n",
    "    if optimalLen<sys.maxsize-1:\n",
    "        parsedTokens[optimalLen-1]=hashTag[begIndex:optimalIndex]\n",
    "        return candLen\n",
    "    return optimalLen\n",
    "    \n",
    "#def returnTokens(hashTag,wordDict,begIndex,currentIndex,parsedTokens):\n",
    "#    if currentIndex>len(hashTag):\n",
    "#        return sys.maxsize\n",
    "#    candToken=hashTag[begIndex:currentIndex]\n",
    "#    if currentIndex==len(hashTag):\n",
    "#        if(isADictWord(candToken,wordDict)):\n",
    "#            parsedTokens[0]=candToken\n",
    "#            return 1\n",
    "#        return sys.maxsize\n",
    "#    exclCount=returnTokens(hashTag,wordDict,begIndex,currentIndex+1,parsedTokens)#Don't Use this Char for Token Boundary\n",
    "\n",
    "#    if(isADictWord(candToken,wordDict)):\n",
    "#        inclCount=1+returnTokens(hashTag,wordDict,currentIndex,currentIndex+1,parsedTokens)\n",
    "#        if inclCount<exclCount:\n",
    "#            parsedTokens[inclCount-1]=candToken\n",
    "#            return inclCount\n",
    "#    return exclCount\n",
    "    \n",
    "def deterministicAlgo(hashTag,wordDict):\n",
    "    parsedTokens={}\n",
    "    finalAns=getMinimalTokens(hashTag,wordDict,0,parsedTokens)\n",
    "    #finalAns=returnTokens(hashTag,wordDict,0,1,parsedTokens)\n",
    "    return(hashTag,finalAns,parsedTokens)\n",
    "def returnSplits(word):\n",
    "    wordDict=returnWordDict()\n",
    "    return deterministicAlgo(word,wordDict)"
   ]
  },
  {
   "cell_type": "code",
   "execution_count": 42,
   "metadata": {
    "collapsed": false
   },
   "outputs": [
    {
     "name": "stdout",
     "output_type": "stream",
     "text": [
      "('wearetheUAEpeople', 2147483647, {0: 'people', 1: 'UAE', 2: 'the', 3: 'are', 4: 'we'})\n",
      "('mentionyourfaves', 2147483646, {})\n"
     ]
    }
   ],
   "source": [
    "print(returnSplits('wearetheUAEpeople'))\n",
    "print(returnSplits('mentionyourfaves'))\n",
    "#s1=\"wearethepeople\"\n",
    "#len(s1)\n",
    "#s1[0:len(s1)]"
   ]
  },
  {
   "cell_type": "code",
   "execution_count": 20,
   "metadata": {
    "collapsed": false
   },
   "outputs": [
    {
     "name": "stdout",
     "output_type": "stream",
     "text": [
      "0\n"
     ]
    },
    {
     "data": {
      "text/plain": [
       "[1, 2, 6]"
      ]
     },
     "execution_count": 20,
     "metadata": {},
     "output_type": "execute_result"
    }
   ],
   "source": [
    "abc=[2,6]\n",
    "print(abc.index(2))\n",
    "abc.insert(0,1)\n",
    "abc"
   ]
  },
  {
   "cell_type": "code",
   "execution_count": 22,
   "metadata": {
    "collapsed": false
   },
   "outputs": [
    {
     "ename": "TypeError",
     "evalue": "'type' object is not iterable",
     "output_type": "error",
     "traceback": [
      "\u001b[1;31m---------------------------------------------------------------------------\u001b[0m",
      "\u001b[1;31mTypeError\u001b[0m                                 Traceback (most recent call last)",
      "\u001b[1;32m<ipython-input-22-2683fa4dab7d>\u001b[0m in \u001b[0;36m<module>\u001b[1;34m()\u001b[0m\n\u001b[1;32m----> 1\u001b[1;33m \u001b[0mmax\u001b[0m\u001b[1;33m(\u001b[0m\u001b[0mint\u001b[0m\u001b[1;33m)\u001b[0m\u001b[1;33m\u001b[0m\u001b[0m\n\u001b[0m\u001b[0;32m      2\u001b[0m \u001b[1;33m\u001b[0m\u001b[0m\n",
      "\u001b[1;31mTypeError\u001b[0m: 'type' object is not iterable"
     ]
    }
   ],
   "source": [
    "max(int)\n",
    "\n"
   ]
  },
  {
   "cell_type": "code",
   "execution_count": 26,
   "metadata": {
    "collapsed": false
   },
   "outputs": [
    {
     "data": {
      "text/plain": [
       "2147483647"
      ]
     },
     "execution_count": 26,
     "metadata": {},
     "output_type": "execute_result"
    }
   ],
   "source": [
    "import sys\n",
    "sys.maxsize\n",
    "\n",
    "\n"
   ]
  },
  {
   "cell_type": "code",
   "execution_count": 22,
   "metadata": {
    "collapsed": false
   },
   "outputs": [
    {
     "data": {
      "text/plain": [
       "'helloAlokKumar'"
      ]
     },
     "execution_count": 22,
     "metadata": {},
     "output_type": "execute_result"
    }
   ],
   "source": [
    "a=\"hello\"\n",
    "b=\" Alok Kumar\"\n",
    "c=a+b\n",
    "c=c.replace(\" \",\"\")\n",
    "c"
   ]
  },
  {
   "cell_type": "code",
   "execution_count": null,
   "metadata": {
    "collapsed": true
   },
   "outputs": [],
   "source": []
  }
 ],
 "metadata": {
  "kernelspec": {
   "display_name": "Python 3",
   "language": "python",
   "name": "python3"
  },
  "language_info": {
   "codemirror_mode": {
    "name": "ipython",
    "version": 3
   },
   "file_extension": ".py",
   "mimetype": "text/x-python",
   "name": "python",
   "nbconvert_exporter": "python",
   "pygments_lexer": "ipython3",
   "version": "3.5.1"
  }
 },
 "nbformat": 4,
 "nbformat_minor": 0
}
